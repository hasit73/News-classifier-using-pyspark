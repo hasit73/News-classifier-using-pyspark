{
 "cells": [
  {
   "cell_type": "markdown",
   "id": "458e3c9b-64b2-4309-940c-22bba1f01344",
   "metadata": {},
   "source": [
    "## News Classification using simple logistic regression approach\n",
    "\n",
    "#### Tools used :\n",
    "    - Pyspark ( for text processing , model building and data gathering)\n",
    "    - Pywebio ( for building simple web applicatin for news classifier)\n",
    "    \n",
    "    "
   ]
  },
  {
   "cell_type": "code",
   "execution_count": 1,
   "id": "910f87ae-557f-4fa1-bd6e-33b377518d62",
   "metadata": {},
   "outputs": [],
   "source": [
    "import findspark\n",
    "findspark.init()"
   ]
  },
  {
   "cell_type": "code",
   "execution_count": 2,
   "id": "61251695-f794-4d5d-8f2f-9bdfd2d09e64",
   "metadata": {},
   "outputs": [],
   "source": [
    "from pyspark.sql import SparkSession\n",
    "from pyspark.sql import functions as F\n",
    "from pyspark.ml.classification import LogisticRegression,DecisionTreeClassifier,RandomForestClassifier,NaiveBayes,DecisionTreeModel\n",
    "from pyspark.ml.evaluation import MulticlassClassificationEvaluator\n",
    "from pyspark.ml.feature import CountVectorizer,Tokenizer,StopWordsRemover,VectorAssembler,StringIndexer,HashingTF,IDF,Word2Vec\n",
    "from pyspark.ml.pipeline import Pipeline\n",
    "from pyspark.sql.types import *\n",
    "import numpy as np\n",
    "from pywebio import input,output\n",
    "import time\n",
    "from pywebio import start_server"
   ]
  },
  {
   "cell_type": "code",
   "execution_count": 3,
   "id": "c7ad329c-710f-4f7a-a34b-bd943326554a",
   "metadata": {},
   "outputs": [
    {
     "data": {
      "text/html": [
       "\n",
       "            <div>\n",
       "                <p><b>SparkSession - in-memory</b></p>\n",
       "                \n",
       "        <div>\n",
       "            <p><b>SparkContext</b></p>\n",
       "\n",
       "            <p><a href=\"http://LAPTOP-K7EI4E4Q:4040\">Spark UI</a></p>\n",
       "\n",
       "            <dl>\n",
       "              <dt>Version</dt>\n",
       "                <dd><code>v2.4.7</code></dd>\n",
       "              <dt>Master</dt>\n",
       "                <dd><code>local[*]</code></dd>\n",
       "              <dt>AppName</dt>\n",
       "                <dd><code>Sentiment 2</code></dd>\n",
       "            </dl>\n",
       "        </div>\n",
       "        \n",
       "            </div>\n",
       "        "
      ],
      "text/plain": [
       "<pyspark.sql.session.SparkSession at 0x2108f609288>"
      ]
     },
     "execution_count": 3,
     "metadata": {},
     "output_type": "execute_result"
    }
   ],
   "source": [
    "spark = SparkSession.builder.appName(\"Sentiment 2\").getOrCreate()\n",
    "spark"
   ]
  },
  {
   "cell_type": "markdown",
   "id": "f9a946fc-0928-412f-a39f-7547a02dfe05",
   "metadata": {},
   "source": [
    "## 1) Read Data from txt file"
   ]
  },
  {
   "cell_type": "code",
   "execution_count": 4,
   "id": "444d1ee1-bee5-452d-b733-f549e66e2ffe",
   "metadata": {},
   "outputs": [],
   "source": [
    "# schema = StructType([\n",
    "#     StructField(\"text\",StringType(),True),\n",
    "#     StructField(\"class\",StringType(),True),\n",
    "# ])\n",
    "# df = spark.read.options(delimiter=\";\").csv(\"train.txt\",inferSchema=True,schema=schema)\n",
    "# df.show()\n",
    "\n",
    "\n",
    "df = spark.read.csv(\"train.csv\",inferSchema=True,header=True)"
   ]
  },
  {
   "cell_type": "code",
   "execution_count": 5,
   "id": "45f29f3b-5bb5-4cb7-9da0-f242f1bdfe70",
   "metadata": {},
   "outputs": [],
   "source": [
    "df = df.withColumnRenamed(\"Class Index\",\"class\").withColumnRenamed(\"Title\",\"text\")"
   ]
  },
  {
   "cell_type": "code",
   "execution_count": 6,
   "id": "f91763d1-c9a7-48d7-8529-cdae611ad334",
   "metadata": {},
   "outputs": [
    {
     "name": "stdout",
     "output_type": "stream",
     "text": [
      "+-----+--------------------+\n",
      "|class|                text|\n",
      "+-----+--------------------+\n",
      "|    3|Wall St. Bears Cl...|\n",
      "|    3|Carlyle Looks Tow...|\n",
      "|    3|Oil and Economy C...|\n",
      "|    3|Iraq Halts Oil Ex...|\n",
      "|    3|Oil prices soar t...|\n",
      "|    3|Stocks End Up, Bu...|\n",
      "|    3|Money Funds Fell ...|\n",
      "|    3|Fed minutes show ...|\n",
      "|    3|Safety Net (Forbe...|\n",
      "|    3|Wall St. Bears Cl...|\n",
      "|    3|Oil and Economy C...|\n",
      "|    3|No Need for OPEC ...|\n",
      "|    3|Non-OPEC Nations ...|\n",
      "|    3|Google IPO Auctio...|\n",
      "|    3|Dollar Falls Broa...|\n",
      "|    3|Rescuing an Old S...|\n",
      "|    3|Kids Rule for Bac...|\n",
      "|    3|In a Down Market,...|\n",
      "|    3|US trade deficit ...|\n",
      "|    3|Shell 'could be t...|\n",
      "+-----+--------------------+\n",
      "only showing top 20 rows\n",
      "\n"
     ]
    }
   ],
   "source": [
    "df = df.drop(\"Description\")\n",
    "df.show()"
   ]
  },
  {
   "cell_type": "markdown",
   "id": "c1f5f61d-07d8-4b40-a0f7-1a1b852ebcac",
   "metadata": {},
   "source": [
    "##### Dataset is unbalanced so apply undersampling for sack of simplicity"
   ]
  },
  {
   "cell_type": "code",
   "execution_count": 7,
   "id": "f04b6ac1-b475-4a80-83d8-864885e12029",
   "metadata": {},
   "outputs": [],
   "source": [
    "data = df.collect()"
   ]
  },
  {
   "cell_type": "code",
   "execution_count": 8,
   "id": "90281f28-9c19-42a3-95d9-8ff69af16050",
   "metadata": {},
   "outputs": [],
   "source": [
    "## shuffle data is necessary otherwise we got bad accuracy while testing and predicting new data\n",
    "np.random.shuffle(data)"
   ]
  },
  {
   "cell_type": "code",
   "execution_count": 9,
   "id": "6251c587-34ec-453d-ab9c-7201fec0dd34",
   "metadata": {},
   "outputs": [],
   "source": [
    "df = spark.createDataFrame(data)"
   ]
  },
  {
   "cell_type": "code",
   "execution_count": 10,
   "id": "83e43cc1-9fe9-48d4-8ad3-46c8231f97e7",
   "metadata": {},
   "outputs": [
    {
     "name": "stdout",
     "output_type": "stream",
     "text": [
      "+-----+--------------------+\n",
      "|class|                text|\n",
      "+-----+--------------------+\n",
      "|    2|HOLMES CONSIDERS ...|\n",
      "|    3|No Respite for Mi...|\n",
      "|    4|&lt;em&gt;Reg&lt;...|\n",
      "|    2|Astros #39; Jeff ...|\n",
      "|    4|Borland titanic e...|\n",
      "|    2|Dent, Okun win as...|\n",
      "|    1|UN Official Warns...|\n",
      "|    3|Telstra creates n...|\n",
      "|    2|NBA-Raptors Produ...|\n",
      "|    2|  Wade Impresses All|\n",
      "|    1|Confusion Surroun...|\n",
      "|    3|The Investment Co...|\n",
      "|    1|French girls expe...|\n",
      "|    4|Blocking out the bad|\n",
      "|    3|NWA #39;s Anderso...|\n",
      "|    4|Microsoft Sues Po...|\n",
      "|    1|Cheney Is a Quiet...|\n",
      "|    3|Dollar, markets d...|\n",
      "|    1|Film star politic...|\n",
      "|    4|The Post-Merger P...|\n",
      "+-----+--------------------+\n",
      "only showing top 20 rows\n",
      "\n"
     ]
    }
   ],
   "source": [
    "df.show()"
   ]
  },
  {
   "cell_type": "markdown",
   "id": "55ded8a8-08e4-4076-bc4d-78a5b7846369",
   "metadata": {},
   "source": [
    "## 2) Data preparation\n",
    "    - Tokenization\n",
    "    - CountVectorizer/TF-IDF transformation"
   ]
  },
  {
   "cell_type": "code",
   "execution_count": 11,
   "id": "3439de8d-3572-4b73-92a9-1c6e94be2691",
   "metadata": {},
   "outputs": [],
   "source": [
    "pipe = Pipeline(stages=[\n",
    "    Tokenizer(inputCol=\"text\",outputCol=\"text_tokens\"),\n",
    "#     HashingTF(inputCol=\"text_tokens\",outputCol=\"text_tf\"),\n",
    "#     IDF(inputCol=\"text_tf\",outputCol=\"text_vectors\")\n",
    "    CountVectorizer(inputCol=\"text_tokens\",outputCol=\"text_vectors\")\n",
    "])\n",
    "\n",
    "pipe_fitted = pipe.fit(df)"
   ]
  },
  {
   "cell_type": "code",
   "execution_count": 12,
   "id": "8821b03b-b7cb-461e-a92b-b995ebc119f7",
   "metadata": {},
   "outputs": [],
   "source": [
    "get_token_count = F.udf(lambda x: len(x),IntegerType())\n",
    "\n",
    "\n",
    "def prepareData(data):\n",
    "    fdata = pipe_fitted.transform(data)\n",
    "    fdata = fdata.withColumn(\"token counts\",get_token_count(\"text_tokens\"))\n",
    "    vc = VectorAssembler(inputCols=[\"text_vectors\"],outputCol=\"features\")\n",
    "    fdata = vc.transform(fdata)\n",
    "    return fdata"
   ]
  },
  {
   "cell_type": "code",
   "execution_count": 13,
   "id": "f501bc31-0305-4e09-a3b5-5717bd231a0b",
   "metadata": {},
   "outputs": [
    {
     "name": "stdout",
     "output_type": "stream",
     "text": [
      "+-----+--------------------+--------------------+--------------------+------------+--------------------+\n",
      "|class|                text|         text_tokens|        text_vectors|token counts|            features|\n",
      "+-----+--------------------+--------------------+--------------------+------------+--------------------+\n",
      "|    2|HOLMES CONSIDERS ...|[holmes, consider...|(55563,[3,760,104...|           5|(55563,[3,760,104...|\n",
      "|    3|No Respite for Mi...|[no, respite, for...|(55563,[2,24,53,8...|           4|(55563,[2,24,53,8...|\n",
      "|    4|&lt;em&gt;Reg&lt;...|[&lt;em&gt;reg&lt...|(55563,[0,44,88,2...|           7|(55563,[0,44,88,2...|\n",
      "|    2|Astros #39; Jeff ...|[astros, #39;, je...|(55563,[6,11,16,4...|          10|(55563,[6,11,16,4...|\n",
      "|    4|Borland titanic e...|[borland, titanic...|(55563,[0,11,141,...|           9|(55563,[0,11,141,...|\n",
      "|    2|Dent, Okun win as...|[dent,, okun, win...|(55563,[15,34,39,...|           8|(55563,[15,34,39,...|\n",
      "|    1|UN Official Warns...|[un, official, wa...|(55563,[4,14,16,6...|          12|(55563,[4,14,16,6...|\n",
      "|    3|Telstra creates n...|[telstra, creates...|(55563,[12,449,15...|           5|(55563,[12,449,15...|\n",
      "|    2|NBA-Raptors Produ...|[nba-raptors, pro...|(55563,[39,1358,4...|           5|(55563,[39,1358,4...|\n",
      "|    2|  Wade Impresses All|[wade, impresses,...|(55563,[225,6095,...|           3|(55563,[225,6095,...|\n",
      "|    1|Confusion Surroun...|[confusion, surro...|(55563,[4,108,166...|           6|(55563,[4,108,166...|\n",
      "|    3|The Investment Co...|[the, investment,...|(55563,[6,23,34,1...|           8|(55563,[6,23,34,1...|\n",
      "|    1|French girls expe...|[french, girls, e...|(55563,[22,348,62...|           5|(55563,[22,348,62...|\n",
      "|    4|Blocking out the bad|[blocking, out, t...|(55563,[6,30,840,...|           4|(55563,[6,30,840,...|\n",
      "|    3|NWA #39;s Anderso...|[nwa, #39;s, ande...|(55563,[0,7,369,4...|           6|(55563,[0,7,369,4...|\n",
      "|    4|Microsoft Sues Po...|[microsoft, sues,...|(55563,[24,441,15...|           4|(55563,[24,441,15...|\n",
      "|    1|Cheney Is a Quiet...|[cheney, is, a, q...|(55563,[8,9,25,52...|           9|(55563,[8,9,25,52...|\n",
      "|    3|Dollar, markets d...|[dollar,, markets...|(55563,[3,590,854...|           6|(55563,[3,590,854...|\n",
      "|    1|Film star politic...|[film, star, poli...|(55563,[1,435,555...|           6|(55563,[1,435,555...|\n",
      "|    4|The Post-Merger P...|[the, post-merger...|(55563,[6,2010,21...|           4|(55563,[6,2010,21...|\n",
      "+-----+--------------------+--------------------+--------------------+------------+--------------------+\n",
      "only showing top 20 rows\n",
      "\n"
     ]
    }
   ],
   "source": [
    "fdata = prepareData(df)\n",
    "fdata.show()"
   ]
  },
  {
   "cell_type": "code",
   "execution_count": 14,
   "id": "9a073b7a-3ac6-43fb-9ff2-f2f31345a0a7",
   "metadata": {},
   "outputs": [],
   "source": [
    "\n",
    "inverse_class_labels = {1:\"World\" , 2:\"Sports\",3:\"Business\",4:\"Sci/Tech\"}\n",
    "\n",
    "get_class_labels = F.udf(lambda x: x , IntegerType())\n",
    "fdata = fdata.withColumn(\"target\",get_class_labels(\"class\"))"
   ]
  },
  {
   "cell_type": "code",
   "execution_count": 15,
   "id": "7e5b2706-d235-47cc-884e-d92673ff13d8",
   "metadata": {},
   "outputs": [],
   "source": [
    "final_data = fdata.select([\"features\",\"target\"])\n",
    "train_data , test_data = final_data.randomSplit([0.75,0.25])\n"
   ]
  },
  {
   "cell_type": "markdown",
   "id": "31d0f401-b16a-488d-89ce-bbe9e206dab3",
   "metadata": {},
   "source": [
    "## 3) Model building"
   ]
  },
  {
   "cell_type": "markdown",
   "id": "389894f6-bcab-4ecc-9b47-bf66ab8f73b3",
   "metadata": {},
   "source": [
    "### Logistic model"
   ]
  },
  {
   "cell_type": "code",
   "execution_count": 16,
   "id": "5d1e19a6-adf2-42b4-8735-abe014fd1d2a",
   "metadata": {},
   "outputs": [],
   "source": [
    "lrmd = LogisticRegression(featuresCol=\"features\",labelCol=\"target\",maxIter=150)\n",
    "lrmd_fitted = lrmd.fit(train_data)"
   ]
  },
  {
   "cell_type": "code",
   "execution_count": 17,
   "id": "a026f776-1cd2-470c-a112-07d0832dd0ac",
   "metadata": {},
   "outputs": [
    {
     "data": {
      "text/plain": [
       "0.9928902079780283"
      ]
     },
     "execution_count": 17,
     "metadata": {},
     "output_type": "execute_result"
    }
   ],
   "source": [
    "lrmd_fitted.evaluate(train_data).accuracy"
   ]
  },
  {
   "cell_type": "code",
   "execution_count": 18,
   "id": "28b88a65-4004-4da7-908b-cc9b646507d9",
   "metadata": {},
   "outputs": [
    {
     "data": {
      "text/plain": [
       "0.7812268534105448"
      ]
     },
     "execution_count": 18,
     "metadata": {},
     "output_type": "execute_result"
    }
   ],
   "source": [
    "lrmd_fitted.evaluate(test_data).accuracy"
   ]
  },
  {
   "cell_type": "markdown",
   "id": "aeb8de46-0f17-42b8-9eb6-a15fe4e96b17",
   "metadata": {},
   "source": [
    "### decision tree"
   ]
  },
  {
   "cell_type": "code",
   "execution_count": 25,
   "id": "282b5ff0-e2c8-4c27-9526-f6858997efa6",
   "metadata": {},
   "outputs": [],
   "source": [
    "dcmd = DecisionTreeClassifier(featuresCol=\"features\",labelCol=\"target\",maxDepth=3,maxBins=18,minInfoGain=0.2,impurity=\"gini\")\n",
    "dcmd_fitted = dcmd.fit(train_data)"
   ]
  },
  {
   "cell_type": "code",
   "execution_count": 26,
   "id": "043f444c-48c9-4b68-8f74-8d30fa79982b",
   "metadata": {},
   "outputs": [],
   "source": [
    "train_results = dcmd_fitted.transform(train_data)\n",
    "test_results = dcmd_fitted.transform(test_data)"
   ]
  },
  {
   "cell_type": "code",
   "execution_count": 27,
   "id": "73efc593-1b3d-42f4-81a5-20da2a5e473c",
   "metadata": {},
   "outputs": [
    {
     "data": {
      "text/plain": [
       "0.24901013354808402"
      ]
     },
     "execution_count": 27,
     "metadata": {},
     "output_type": "execute_result"
    }
   ],
   "source": [
    "test_results.filter(test_results.target==test_results.prediction).count()/test_results.count()"
   ]
  },
  {
   "cell_type": "code",
   "execution_count": 78,
   "id": "7eaad608-6096-49bb-bffc-3af4b08bf3ec",
   "metadata": {},
   "outputs": [],
   "source": [
    "evaluator = MulticlassClassificationEvaluator(predictionCol=\"prediction\",labelCol=\"target\")"
   ]
  },
  {
   "cell_type": "code",
   "execution_count": 79,
   "id": "ad589648-b09d-4647-a212-ba3d278f4b27",
   "metadata": {},
   "outputs": [
    {
     "name": "stdout",
     "output_type": "stream",
     "text": [
      "train results :  0.89933495215833\n",
      "test results :  0.9019825647035269\n"
     ]
    }
   ],
   "source": [
    "print(\"train results : \",1 - evaluator.evaluate(train_results))\n",
    "print(\"test results : \",1 - evaluator.evaluate(test_results))"
   ]
  },
  {
   "cell_type": "code",
   "execution_count": 28,
   "id": "4202cb2d-77fd-417b-8e40-e8dc462c2e0c",
   "metadata": {},
   "outputs": [],
   "source": [
    "nv = NaiveBayes(featuresCol=\"features\",labelCol=\"target\")\n",
    "nvmd = nv.fit(train_data)"
   ]
  },
  {
   "cell_type": "code",
   "execution_count": 29,
   "id": "c8b2bea1-e8fc-445b-a9d1-ba94706c71d6",
   "metadata": {},
   "outputs": [],
   "source": [
    "test_preds = nvmd.transform(test_data)"
   ]
  },
  {
   "cell_type": "code",
   "execution_count": 30,
   "id": "860072ec-9f49-4ad8-86aa-56bda023b233",
   "metadata": {},
   "outputs": [
    {
     "data": {
      "text/plain": [
       "0.04422521978390712"
      ]
     },
     "execution_count": 30,
     "metadata": {},
     "output_type": "execute_result"
    }
   ],
   "source": [
    "test_preds.filter(test_preds.target==test_preds.prediction).count()/test_preds.count()"
   ]
  },
  {
   "cell_type": "code",
   "execution_count": 21,
   "id": "9203da3b-f966-4b3e-9345-f64162d3be22",
   "metadata": {},
   "outputs": [],
   "source": [
    "def predictForText(s):\n",
    "    t = spark.createDataFrame([s],StringType()).withColumnRenamed(\"value\",\"text\")\n",
    "    t = prepareData(t)\n",
    "    return inverse_class_labels[lrmd_fitted.transform(t).select(\"prediction\").collect()[0][\"prediction\"]]"
   ]
  },
  {
   "cell_type": "code",
   "execution_count": 22,
   "id": "d555ef1d-c973-4600-be6c-c8e32f1c8331",
   "metadata": {},
   "outputs": [
    {
     "data": {
      "text/plain": [
       "'Business'"
      ]
     },
     "execution_count": 22,
     "metadata": {},
     "output_type": "execute_result"
    }
   ],
   "source": [
    "predictForText(\"Money fraud in india\")"
   ]
  },
  {
   "cell_type": "code",
   "execution_count": 23,
   "id": "2e2ecf94-ca3e-4400-9c8b-4837968110c3",
   "metadata": {},
   "outputs": [
    {
     "data": {
      "text/plain": [
       "'Sci/Tech'"
      ]
     },
     "execution_count": 23,
     "metadata": {},
     "output_type": "execute_result"
    }
   ],
   "source": [
    "predictForText(\"5g smart phones in market\")"
   ]
  },
  {
   "cell_type": "code",
   "execution_count": null,
   "id": "c476d497-f2ac-4389-9223-2e880a0cb4ff",
   "metadata": {},
   "outputs": [],
   "source": []
  },
  {
   "cell_type": "markdown",
   "id": "301843dc-5a50-4fb0-b72b-e73b42f47f94",
   "metadata": {},
   "source": [
    "## Make simple web application for ML model"
   ]
  },
  {
   "cell_type": "code",
   "execution_count": 24,
   "id": "6cdfdce3-1c6e-4aed-999a-d771af42c857",
   "metadata": {},
   "outputs": [],
   "source": [
    "def callApp():\n",
    "    output.clear()\n",
    "    output.put_markdown(\"# News Classification Using Pyspark\")\n",
    "    output.style(output.put_markdown(\"#### Note : Possible output are Sports , Sci-Tech , Business and World \") , \"color:blue\")\n",
    "    output.put_text(\"Please enter news headline in below input box\")\n",
    "    inputText = input.input(label=\"Enter news headline\",type=\"text\")\n",
    "    with output.put_loading():\n",
    "        c1 = predictForText(inputText)\n",
    "        output.style(output.put_text(\"Predicted Class is \",c1),\"color:green;font-size:24px\")"
   ]
  },
  {
   "cell_type": "code",
   "execution_count": null,
   "id": "dc8f372d-db88-47bd-a93f-527efee27a2d",
   "metadata": {},
   "outputs": [],
   "source": [
    "callApp()"
   ]
  },
  {
   "cell_type": "code",
   "execution_count": null,
   "id": "f4fb6c83-c9fb-4f4e-9216-d97abb454487",
   "metadata": {},
   "outputs": [],
   "source": []
  }
 ],
 "metadata": {
  "kernelspec": {
   "display_name": "Python 3",
   "language": "python",
   "name": "python3"
  },
  "language_info": {
   "codemirror_mode": {
    "name": "ipython",
    "version": 3
   },
   "file_extension": ".py",
   "mimetype": "text/x-python",
   "name": "python",
   "nbconvert_exporter": "python",
   "pygments_lexer": "ipython3",
   "version": "3.7.10"
  }
 },
 "nbformat": 4,
 "nbformat_minor": 5
}
